{
  "cells": [
    {
      "cell_type": "markdown",
      "metadata": {},
      "source": [
        "# Decision Tree Methods"
      ]
    },
    {
      "cell_type": "markdown",
      "metadata": {},
      "source": [
        "## Related Work\n",
        "\n",
        "Montevechi, A. A., Miranda, R. de C., Medeiros, A. L., & Montevechi, J. A. B. (2024). Advancing credit risk modelling with machine learning: A comprehensive review of the state-of-the-art. Engineering Applications of Artificial Intelligence, 137(Part A), 109082. https://doi.org/10.1016/j.engappai.2024.109082\n",
        "\n",
        "Chang, Y.-C., Chang, K.-H., Chu, H.-H., & Tong, L.-I. (2016). Establishing decision tree-based short-term default credit risk assessment models. Communications in Statistics - Theory and Methods, 45(23), 6803–6815. https://doi.org/10.1080/03610926.2014.968730\n"
      ]
    },
    {
      "cell_type": "markdown",
      "metadata": {},
      "source": [
        "Chang et al. (2016) proposed a decision tree-based credit risk assessment model specifically designed to identify short-term defaults. The model integrates Bagging and SMOTE techniques to enhance stability and performance. Unlike traditional models that assess long-term default risk or rely on survival analysis, this binary classification approach focuses on short-term loss prevention—enabling financial institutions to take timely actions on high-risk cases.\n",
        "\n",
        "The model demonstrated superior recall compared to logistic regression and Cox models, effectively capturing around 7% of cases prone to short-term default. It also offers transparent classification rules that align with practical lending decisions and requires no significant computing resources. The authors highlight the model's applicability in real-world financial institutions and suggest future work on extremely low-default corporate portfolios to validate its robustness further.\n",
        "\n",
        "A more recent review on credit risk modelling by Montevechi et al. (2024) note that no single ML model outperforms others consistently in credit risk prediction. However, Decision Trees (DT), Random Forests (RF), and boosting ensembles are among the most commonly used due to their relative interpretability. More complex models like neural networks (NN) offer high accuracy but are harder to understand and deploy under current regulatory expectations."
      ]
    },
    {
      "cell_type": "markdown",
      "metadata": {},
      "source": [
        "## Why Decision Tree Methods are suitable for Credit Card Approval Prediction"
      ]
    },
    {
      "cell_type": "markdown",
      "metadata": {},
      "source": [
        "In this file, we will be focusing on decision tree-based models. The goal of this project is to classify clients as \"Good\" or \"Bad\" credit risks using a credit scoring dataset. The classification task is binary in nature, and decision trees are well-suited for this type of problem due to their ability to model non-linear relationships and provide interpretable results.\n",
        "\n",
        "We begin with a basic Decision Tree Classifier as a baseline model, and progressively explore more advanced ensemble variants, namely Random Forest, XGBoost, and LightGBM. These models build upon the foundation of decision trees, enhancing performance through techniques such as bagging (in the case of Random Forest) and boosting (in XGBoost and LightGBM). Lastly, we build ensemble stacking methods which combines the predictions of multiple base models.\n",
        "\n",
        "An important challenge in this dataset is class imbalance, where \"Good\" clients significantly outnumber \"Bad\" ones. This imbalance can cause models to be biased toward predicting the majority class, leading to poor generalization on the minority class. To address this, we applied SMOTE (Synthetic Minority Over-sampling Technique) on the training set to synthetically generate new samples of the minority (\"Bad\") class, aiming to balance the class distribution. \n",
        "\n",
        "However, while SMOTE helps the model see more examples of the minority class during training, it does not guarantee that the learned decision boundaries will generalize well to real unseen data. Synthetic samples may not perfectly capture the true distribution of the minority class, which can lead to overfitting or learned patterns that do not transfer well. As a result, the models may still exhibit bias, especially if the minority class overlaps significantly with the majority class. This presents a technical limitation that must be carefully considered when evaluating model performance.\n",
        "\n",
        "Since there is a class imbalance, accuracy would not be a good metric to focus on as the model can simply predict 'Good' for most clients and still achieve a high accuracy. In this case, it might fail to identify 'Bad\" clients.\n",
        "\n",
        "In our models, we want the model to perform well on both minimizing false positives (Precision) and false negatives (Recall) for the 'Bad' clients. Hence, we will pick F1-score as the primary metric to evaluate our models as it is the harmonic mean of precision and recall and helps balance the two. "
      ]
    },
    {
      "cell_type": "markdown",
      "metadata": {},
      "source": [
        "## Model Implementation"
      ]
    },
    {
      "cell_type": "code",
      "execution_count": 2,
      "metadata": {
        "id": "V4Xwa-b-JcDw"
      },
      "outputs": [],
      "source": [
        "# Import required packages\n",
        "import pandas as pd\n",
        "import numpy as np\n",
        "import matplotlib.pyplot as plt"
      ]
    },
    {
      "cell_type": "code",
      "execution_count": 3,
      "metadata": {
        "id": "oscI82gxJcDz"
      },
      "outputs": [],
      "source": [
        "# Reading files\n",
        "train_df = pd.read_csv(\"train_dataset.csv\")\n",
        "test_df = pd.read_csv(\"test_dataset.csv\")"
      ]
    },
    {
      "cell_type": "code",
      "execution_count": 4,
      "metadata": {
        "colab": {
          "base_uri": "https://localhost:8080/",
          "height": 278
        },
        "id": "V9Uz2sDvJcDz",
        "outputId": "13ce6b77-4f22-4479-9495-35333b3d5708"
      },
      "outputs": [
        {
          "data": {
            "text/html": [
              "<div>\n",
              "<style scoped>\n",
              "    .dataframe tbody tr th:only-of-type {\n",
              "        vertical-align: middle;\n",
              "    }\n",
              "\n",
              "    .dataframe tbody tr th {\n",
              "        vertical-align: top;\n",
              "    }\n",
              "\n",
              "    .dataframe thead th {\n",
              "        text-align: right;\n",
              "    }\n",
              "</style>\n",
              "<table border=\"1\" class=\"dataframe\">\n",
              "  <thead>\n",
              "    <tr style=\"text-align: right;\">\n",
              "      <th></th>\n",
              "      <th>CODE_GENDER</th>\n",
              "      <th>FLAG_OWN_CAR</th>\n",
              "      <th>FLAG_OWN_REALTY</th>\n",
              "      <th>CNT_CHILDREN</th>\n",
              "      <th>AMT_INCOME_TOTAL</th>\n",
              "      <th>NAME_INCOME_TYPE</th>\n",
              "      <th>NAME_EDUCATION_TYPE</th>\n",
              "      <th>NAME_FAMILY_STATUS</th>\n",
              "      <th>NAME_HOUSING_TYPE</th>\n",
              "      <th>FLAG_MOBIL</th>\n",
              "      <th>FLAG_WORK_PHONE</th>\n",
              "      <th>FLAG_PHONE</th>\n",
              "      <th>FLAG_EMAIL</th>\n",
              "      <th>OCCUPATION_TYPE</th>\n",
              "      <th>CNT_FAM_MEMBERS</th>\n",
              "      <th>AGE</th>\n",
              "      <th>IS_EMPLOYED</th>\n",
              "      <th>TYPE</th>\n",
              "    </tr>\n",
              "  </thead>\n",
              "  <tbody>\n",
              "    <tr>\n",
              "      <th>0</th>\n",
              "      <td>1</td>\n",
              "      <td>1</td>\n",
              "      <td>0</td>\n",
              "      <td>-0.579661</td>\n",
              "      <td>-0.728827</td>\n",
              "      <td>Pensioner</td>\n",
              "      <td>Secondary / secondary special</td>\n",
              "      <td>Married</td>\n",
              "      <td>House / apartment</td>\n",
              "      <td>1</td>\n",
              "      <td>0</td>\n",
              "      <td>0</td>\n",
              "      <td>0</td>\n",
              "      <td>Unknown</td>\n",
              "      <td>-0.217680</td>\n",
              "      <td>1.106810</td>\n",
              "      <td>0</td>\n",
              "      <td>1</td>\n",
              "    </tr>\n",
              "    <tr>\n",
              "      <th>1</th>\n",
              "      <td>0</td>\n",
              "      <td>0</td>\n",
              "      <td>1</td>\n",
              "      <td>-0.579661</td>\n",
              "      <td>-0.728827</td>\n",
              "      <td>Pensioner</td>\n",
              "      <td>Secondary / secondary special</td>\n",
              "      <td>Married</td>\n",
              "      <td>House / apartment</td>\n",
              "      <td>1</td>\n",
              "      <td>0</td>\n",
              "      <td>0</td>\n",
              "      <td>0</td>\n",
              "      <td>Unknown</td>\n",
              "      <td>-0.217680</td>\n",
              "      <td>1.541205</td>\n",
              "      <td>0</td>\n",
              "      <td>1</td>\n",
              "    </tr>\n",
              "    <tr>\n",
              "      <th>2</th>\n",
              "      <td>0</td>\n",
              "      <td>0</td>\n",
              "      <td>0</td>\n",
              "      <td>-0.579661</td>\n",
              "      <td>-0.242521</td>\n",
              "      <td>Commercial associate</td>\n",
              "      <td>Secondary / secondary special</td>\n",
              "      <td>Married</td>\n",
              "      <td>House / apartment</td>\n",
              "      <td>1</td>\n",
              "      <td>1</td>\n",
              "      <td>0</td>\n",
              "      <td>0</td>\n",
              "      <td>Core staff</td>\n",
              "      <td>-0.217680</td>\n",
              "      <td>-0.543892</td>\n",
              "      <td>1</td>\n",
              "      <td>1</td>\n",
              "    </tr>\n",
              "    <tr>\n",
              "      <th>3</th>\n",
              "      <td>0</td>\n",
              "      <td>0</td>\n",
              "      <td>0</td>\n",
              "      <td>-0.579661</td>\n",
              "      <td>0.376413</td>\n",
              "      <td>Pensioner</td>\n",
              "      <td>Higher education</td>\n",
              "      <td>Married</td>\n",
              "      <td>House / apartment</td>\n",
              "      <td>1</td>\n",
              "      <td>0</td>\n",
              "      <td>0</td>\n",
              "      <td>1</td>\n",
              "      <td>Unknown</td>\n",
              "      <td>-0.217680</td>\n",
              "      <td>1.019931</td>\n",
              "      <td>0</td>\n",
              "      <td>1</td>\n",
              "    </tr>\n",
              "    <tr>\n",
              "      <th>4</th>\n",
              "      <td>0</td>\n",
              "      <td>1</td>\n",
              "      <td>1</td>\n",
              "      <td>0.767400</td>\n",
              "      <td>0.730090</td>\n",
              "      <td>State servant</td>\n",
              "      <td>Higher education</td>\n",
              "      <td>Married</td>\n",
              "      <td>House / apartment</td>\n",
              "      <td>1</td>\n",
              "      <td>0</td>\n",
              "      <td>0</td>\n",
              "      <td>0</td>\n",
              "      <td>Managers</td>\n",
              "      <td>0.879204</td>\n",
              "      <td>-0.196376</td>\n",
              "      <td>1</td>\n",
              "      <td>1</td>\n",
              "    </tr>\n",
              "  </tbody>\n",
              "</table>\n",
              "</div>"
            ],
            "text/plain": [
              "   CODE_GENDER  FLAG_OWN_CAR  FLAG_OWN_REALTY  CNT_CHILDREN  AMT_INCOME_TOTAL  \\\n",
              "0            1             1                0     -0.579661         -0.728827   \n",
              "1            0             0                1     -0.579661         -0.728827   \n",
              "2            0             0                0     -0.579661         -0.242521   \n",
              "3            0             0                0     -0.579661          0.376413   \n",
              "4            0             1                1      0.767400          0.730090   \n",
              "\n",
              "       NAME_INCOME_TYPE            NAME_EDUCATION_TYPE NAME_FAMILY_STATUS  \\\n",
              "0             Pensioner  Secondary / secondary special            Married   \n",
              "1             Pensioner  Secondary / secondary special            Married   \n",
              "2  Commercial associate  Secondary / secondary special            Married   \n",
              "3             Pensioner               Higher education            Married   \n",
              "4         State servant               Higher education            Married   \n",
              "\n",
              "   NAME_HOUSING_TYPE  FLAG_MOBIL  FLAG_WORK_PHONE  FLAG_PHONE  FLAG_EMAIL  \\\n",
              "0  House / apartment           1                0           0           0   \n",
              "1  House / apartment           1                0           0           0   \n",
              "2  House / apartment           1                1           0           0   \n",
              "3  House / apartment           1                0           0           1   \n",
              "4  House / apartment           1                0           0           0   \n",
              "\n",
              "  OCCUPATION_TYPE  CNT_FAM_MEMBERS       AGE  IS_EMPLOYED  TYPE  \n",
              "0         Unknown        -0.217680  1.106810            0     1  \n",
              "1         Unknown        -0.217680  1.541205            0     1  \n",
              "2      Core staff        -0.217680 -0.543892            1     1  \n",
              "3         Unknown        -0.217680  1.019931            0     1  \n",
              "4        Managers         0.879204 -0.196376            1     1  "
            ]
          },
          "execution_count": 4,
          "metadata": {},
          "output_type": "execute_result"
        }
      ],
      "source": [
        "train_df.head()"
      ]
    },
    {
      "cell_type": "code",
      "execution_count": 5,
      "metadata": {
        "id": "xL1v5TokJcD0"
      },
      "outputs": [],
      "source": [
        "# Split train and test data into feature and response variables\n",
        "X_train = train_df.drop(columns=[\"TYPE\"])\n",
        "y_train = train_df[\"TYPE\"]\n",
        "X_test = test_df.drop(columns=[\"TYPE\"])\n",
        "y_test = test_df[\"TYPE\"]"
      ]
    },
    {
      "cell_type": "code",
      "execution_count": 6,
      "metadata": {
        "colab": {
          "base_uri": "https://localhost:8080/",
          "height": 648
        },
        "id": "G1sJf8o4JcD1",
        "outputId": "f98f3c91-401d-4b69-bef0-9197f111a65d"
      },
      "outputs": [
        {
          "data": {
            "text/plain": [
              "CODE_GENDER              int64\n",
              "FLAG_OWN_CAR             int64\n",
              "FLAG_OWN_REALTY          int64\n",
              "CNT_CHILDREN           float64\n",
              "AMT_INCOME_TOTAL       float64\n",
              "NAME_INCOME_TYPE        object\n",
              "NAME_EDUCATION_TYPE     object\n",
              "NAME_FAMILY_STATUS      object\n",
              "NAME_HOUSING_TYPE       object\n",
              "FLAG_MOBIL               int64\n",
              "FLAG_WORK_PHONE          int64\n",
              "FLAG_PHONE               int64\n",
              "FLAG_EMAIL               int64\n",
              "OCCUPATION_TYPE         object\n",
              "CNT_FAM_MEMBERS        float64\n",
              "AGE                    float64\n",
              "IS_EMPLOYED              int64\n",
              "TYPE                     int64\n",
              "dtype: object"
            ]
          },
          "execution_count": 6,
          "metadata": {},
          "output_type": "execute_result"
        }
      ],
      "source": [
        "# Look at column types\n",
        "train_df.dtypes"
      ]
    },
    {
      "cell_type": "code",
      "execution_count": 7,
      "metadata": {
        "id": "X2eo9ab0JcD1"
      },
      "outputs": [],
      "source": [
        "# Encode categorical variables using One-Hot Encoding\n",
        "from sklearn.preprocessing import OneHotEncoder\n",
        "\n",
        "categorical_cols = train_df.select_dtypes(include=[\"object\"]).columns\n",
        "\n",
        "encoder = OneHotEncoder(handle_unknown=\"ignore\", sparse_output=False)\n",
        "\n",
        "X_train_encoded = encoder.fit_transform(X_train[categorical_cols])\n",
        "X_test_encoded = encoder.transform(X_test[categorical_cols])\n",
        "\n",
        "# Convert back to DataFrame\n",
        "X_train_encoded = pd.DataFrame(X_train_encoded, columns=encoder.get_feature_names_out(categorical_cols), index=X_train.index)\n",
        "X_test_encoded = pd.DataFrame(X_test_encoded, columns=encoder.get_feature_names_out(categorical_cols), index=X_test.index)\n",
        "\n",
        "# Drop original categorical columns and concatenate encoded ones\n",
        "X_train = X_train.drop(columns=categorical_cols).reset_index(drop=True).join(X_train_encoded)\n",
        "X_test = X_test.drop(columns=categorical_cols).reset_index(drop=True).join(X_test_encoded)\n"
      ]
    },
    {
      "cell_type": "code",
      "execution_count": 8,
      "metadata": {
        "colab": {
          "base_uri": "https://localhost:8080/",
          "height": 272
        },
        "id": "8sncBpnWJcD2",
        "outputId": "a7488a65-490c-4bca-9fba-5d7d47bbcc2c"
      },
      "outputs": [
        {
          "data": {
            "text/html": [
              "<div>\n",
              "<style scoped>\n",
              "    .dataframe tbody tr th:only-of-type {\n",
              "        vertical-align: middle;\n",
              "    }\n",
              "\n",
              "    .dataframe tbody tr th {\n",
              "        vertical-align: top;\n",
              "    }\n",
              "\n",
              "    .dataframe thead th {\n",
              "        text-align: right;\n",
              "    }\n",
              "</style>\n",
              "<table border=\"1\" class=\"dataframe\">\n",
              "  <thead>\n",
              "    <tr style=\"text-align: right;\">\n",
              "      <th></th>\n",
              "      <th>CODE_GENDER</th>\n",
              "      <th>FLAG_OWN_CAR</th>\n",
              "      <th>FLAG_OWN_REALTY</th>\n",
              "      <th>CNT_CHILDREN</th>\n",
              "      <th>AMT_INCOME_TOTAL</th>\n",
              "      <th>FLAG_MOBIL</th>\n",
              "      <th>FLAG_WORK_PHONE</th>\n",
              "      <th>FLAG_PHONE</th>\n",
              "      <th>FLAG_EMAIL</th>\n",
              "      <th>CNT_FAM_MEMBERS</th>\n",
              "      <th>...</th>\n",
              "      <th>OCCUPATION_TYPE_Low-skill Laborers</th>\n",
              "      <th>OCCUPATION_TYPE_Managers</th>\n",
              "      <th>OCCUPATION_TYPE_Medicine staff</th>\n",
              "      <th>OCCUPATION_TYPE_Private service staff</th>\n",
              "      <th>OCCUPATION_TYPE_Realty agents</th>\n",
              "      <th>OCCUPATION_TYPE_Sales staff</th>\n",
              "      <th>OCCUPATION_TYPE_Secretaries</th>\n",
              "      <th>OCCUPATION_TYPE_Security staff</th>\n",
              "      <th>OCCUPATION_TYPE_Unknown</th>\n",
              "      <th>OCCUPATION_TYPE_Waiters/barmen staff</th>\n",
              "    </tr>\n",
              "  </thead>\n",
              "  <tbody>\n",
              "    <tr>\n",
              "      <th>0</th>\n",
              "      <td>1</td>\n",
              "      <td>1</td>\n",
              "      <td>0</td>\n",
              "      <td>-0.579661</td>\n",
              "      <td>-0.728827</td>\n",
              "      <td>1</td>\n",
              "      <td>0</td>\n",
              "      <td>0</td>\n",
              "      <td>0</td>\n",
              "      <td>-0.217680</td>\n",
              "      <td>...</td>\n",
              "      <td>0.0</td>\n",
              "      <td>0.0</td>\n",
              "      <td>0.0</td>\n",
              "      <td>0.0</td>\n",
              "      <td>0.0</td>\n",
              "      <td>0.0</td>\n",
              "      <td>0.0</td>\n",
              "      <td>0.0</td>\n",
              "      <td>1.0</td>\n",
              "      <td>0.0</td>\n",
              "    </tr>\n",
              "    <tr>\n",
              "      <th>1</th>\n",
              "      <td>0</td>\n",
              "      <td>0</td>\n",
              "      <td>1</td>\n",
              "      <td>-0.579661</td>\n",
              "      <td>-0.728827</td>\n",
              "      <td>1</td>\n",
              "      <td>0</td>\n",
              "      <td>0</td>\n",
              "      <td>0</td>\n",
              "      <td>-0.217680</td>\n",
              "      <td>...</td>\n",
              "      <td>0.0</td>\n",
              "      <td>0.0</td>\n",
              "      <td>0.0</td>\n",
              "      <td>0.0</td>\n",
              "      <td>0.0</td>\n",
              "      <td>0.0</td>\n",
              "      <td>0.0</td>\n",
              "      <td>0.0</td>\n",
              "      <td>1.0</td>\n",
              "      <td>0.0</td>\n",
              "    </tr>\n",
              "    <tr>\n",
              "      <th>2</th>\n",
              "      <td>0</td>\n",
              "      <td>0</td>\n",
              "      <td>0</td>\n",
              "      <td>-0.579661</td>\n",
              "      <td>-0.242521</td>\n",
              "      <td>1</td>\n",
              "      <td>1</td>\n",
              "      <td>0</td>\n",
              "      <td>0</td>\n",
              "      <td>-0.217680</td>\n",
              "      <td>...</td>\n",
              "      <td>0.0</td>\n",
              "      <td>0.0</td>\n",
              "      <td>0.0</td>\n",
              "      <td>0.0</td>\n",
              "      <td>0.0</td>\n",
              "      <td>0.0</td>\n",
              "      <td>0.0</td>\n",
              "      <td>0.0</td>\n",
              "      <td>0.0</td>\n",
              "      <td>0.0</td>\n",
              "    </tr>\n",
              "    <tr>\n",
              "      <th>3</th>\n",
              "      <td>0</td>\n",
              "      <td>0</td>\n",
              "      <td>0</td>\n",
              "      <td>-0.579661</td>\n",
              "      <td>0.376413</td>\n",
              "      <td>1</td>\n",
              "      <td>0</td>\n",
              "      <td>0</td>\n",
              "      <td>1</td>\n",
              "      <td>-0.217680</td>\n",
              "      <td>...</td>\n",
              "      <td>0.0</td>\n",
              "      <td>0.0</td>\n",
              "      <td>0.0</td>\n",
              "      <td>0.0</td>\n",
              "      <td>0.0</td>\n",
              "      <td>0.0</td>\n",
              "      <td>0.0</td>\n",
              "      <td>0.0</td>\n",
              "      <td>1.0</td>\n",
              "      <td>0.0</td>\n",
              "    </tr>\n",
              "    <tr>\n",
              "      <th>4</th>\n",
              "      <td>0</td>\n",
              "      <td>1</td>\n",
              "      <td>1</td>\n",
              "      <td>0.767400</td>\n",
              "      <td>0.730090</td>\n",
              "      <td>1</td>\n",
              "      <td>0</td>\n",
              "      <td>0</td>\n",
              "      <td>0</td>\n",
              "      <td>0.879204</td>\n",
              "      <td>...</td>\n",
              "      <td>0.0</td>\n",
              "      <td>1.0</td>\n",
              "      <td>0.0</td>\n",
              "      <td>0.0</td>\n",
              "      <td>0.0</td>\n",
              "      <td>0.0</td>\n",
              "      <td>0.0</td>\n",
              "      <td>0.0</td>\n",
              "      <td>0.0</td>\n",
              "      <td>0.0</td>\n",
              "    </tr>\n",
              "  </tbody>\n",
              "</table>\n",
              "<p>5 rows × 52 columns</p>\n",
              "</div>"
            ],
            "text/plain": [
              "   CODE_GENDER  FLAG_OWN_CAR  FLAG_OWN_REALTY  CNT_CHILDREN  AMT_INCOME_TOTAL  \\\n",
              "0            1             1                0     -0.579661         -0.728827   \n",
              "1            0             0                1     -0.579661         -0.728827   \n",
              "2            0             0                0     -0.579661         -0.242521   \n",
              "3            0             0                0     -0.579661          0.376413   \n",
              "4            0             1                1      0.767400          0.730090   \n",
              "\n",
              "   FLAG_MOBIL  FLAG_WORK_PHONE  FLAG_PHONE  FLAG_EMAIL  CNT_FAM_MEMBERS  ...  \\\n",
              "0           1                0           0           0        -0.217680  ...   \n",
              "1           1                0           0           0        -0.217680  ...   \n",
              "2           1                1           0           0        -0.217680  ...   \n",
              "3           1                0           0           1        -0.217680  ...   \n",
              "4           1                0           0           0         0.879204  ...   \n",
              "\n",
              "   OCCUPATION_TYPE_Low-skill Laborers  OCCUPATION_TYPE_Managers  \\\n",
              "0                                 0.0                       0.0   \n",
              "1                                 0.0                       0.0   \n",
              "2                                 0.0                       0.0   \n",
              "3                                 0.0                       0.0   \n",
              "4                                 0.0                       1.0   \n",
              "\n",
              "   OCCUPATION_TYPE_Medicine staff  OCCUPATION_TYPE_Private service staff  \\\n",
              "0                             0.0                                    0.0   \n",
              "1                             0.0                                    0.0   \n",
              "2                             0.0                                    0.0   \n",
              "3                             0.0                                    0.0   \n",
              "4                             0.0                                    0.0   \n",
              "\n",
              "   OCCUPATION_TYPE_Realty agents  OCCUPATION_TYPE_Sales staff  \\\n",
              "0                            0.0                          0.0   \n",
              "1                            0.0                          0.0   \n",
              "2                            0.0                          0.0   \n",
              "3                            0.0                          0.0   \n",
              "4                            0.0                          0.0   \n",
              "\n",
              "   OCCUPATION_TYPE_Secretaries  OCCUPATION_TYPE_Security staff  \\\n",
              "0                          0.0                             0.0   \n",
              "1                          0.0                             0.0   \n",
              "2                          0.0                             0.0   \n",
              "3                          0.0                             0.0   \n",
              "4                          0.0                             0.0   \n",
              "\n",
              "   OCCUPATION_TYPE_Unknown  OCCUPATION_TYPE_Waiters/barmen staff  \n",
              "0                      1.0                                   0.0  \n",
              "1                      1.0                                   0.0  \n",
              "2                      0.0                                   0.0  \n",
              "3                      1.0                                   0.0  \n",
              "4                      0.0                                   0.0  \n",
              "\n",
              "[5 rows x 52 columns]"
            ]
          },
          "execution_count": 8,
          "metadata": {},
          "output_type": "execute_result"
        }
      ],
      "source": [
        "X_train.head()"
      ]
    },
    {
      "cell_type": "markdown",
      "metadata": {},
      "source": [
        "## Decision Tree (Baseline)"
      ]
    },
    {
      "cell_type": "code",
      "execution_count": 9,
      "metadata": {
        "colab": {
          "base_uri": "https://localhost:8080/"
        },
        "id": "DjmuicQAJcD3",
        "outputId": "d390f7ca-e2f7-4a52-9bbe-2a7de6b3a2ae"
      },
      "outputs": [
        {
          "name": "stdout",
          "output_type": "stream",
          "text": [
            "Classification Report:\n",
            "              precision    recall  f1-score   support\n",
            "\n",
            "           0     0.2283    0.3500    0.2763        60\n",
            "           1     0.9946    0.9902    0.9924      7232\n",
            "\n",
            "    accuracy                         0.9849      7292\n",
            "   macro avg     0.6114    0.6701    0.6343      7292\n",
            "weighted avg     0.9883    0.9849    0.9865      7292\n",
            "\n"
          ]
        }
      ],
      "source": [
        "# Implement a decision tree without any modifications\n",
        "from sklearn.tree import DecisionTreeClassifier\n",
        "from sklearn.metrics import classification_report\n",
        "\n",
        "# Create and train the model\n",
        "clf = DecisionTreeClassifier(random_state=42)\n",
        "clf.fit(X_train, y_train)\n",
        "\n",
        "# Predictions\n",
        "y_pred = clf.predict(X_test)\n",
        "\n",
        "# Evaluation metrics\n",
        "print(\"Classification Report:\")\n",
        "print(classification_report(y_test, y_pred, digits=4))\n"
      ]
    },
    {
      "cell_type": "markdown",
      "metadata": {
        "id": "3iHsNrqAJcD5"
      },
      "source": [
        "This baseline decision tree is trained using gini impurity as the loss function.\n",
        "\n",
        "While the model achieves a high overall accuracy of 0.9849, this metric can be misleading in the presence of severe class imbalance.\n",
        "\n",
        "We take a closer look at the class-wise F1-scores:\n",
        "\n",
        "For the majority class (\"Good\" clients), the model performs exceptionally well with an F1-score of 0.9924. However, for the minority class (\"Bad\" clients), the F1-score drops significantly to just 0.2763.\n",
        "\n",
        "This indicates that while the model is highly effective at identifying good clients, it struggles to correctly detect bad clients. The low F1-score for the \"Bad\" class suggests a poor balance between precision and recall. Ideally, we want to maximise recall to correctly identify as many \"Bad\" clients as possible and also maintain a good precision to not wrongly classify too many good clients as bad.\n",
        "\n",
        "Moving forward, we apply ensemble methods to try to increase the f1-score for the \"Bad\" clients."
      ]
    },
    {
      "cell_type": "markdown",
      "metadata": {},
      "source": [
        "## Random forest"
      ]
    },
    {
      "cell_type": "code",
      "execution_count": 10,
      "metadata": {
        "colab": {
          "base_uri": "https://localhost:8080/"
        },
        "id": "wcTIUpPGJcD6",
        "outputId": "3b3a1701-683d-4dcc-b330-7b76a0237030"
      },
      "outputs": [
        {
          "name": "stdout",
          "output_type": "stream",
          "text": [
            "Classification Report:\n",
            "              precision    recall  f1-score   support\n",
            "\n",
            "           0     0.3333    0.3000    0.3158        60\n",
            "           1     0.9942    0.9950    0.9946      7232\n",
            "\n",
            "    accuracy                         0.9893      7292\n",
            "   macro avg     0.6638    0.6475    0.6552      7292\n",
            "weighted avg     0.9888    0.9893    0.9890      7292\n",
            "\n"
          ]
        }
      ],
      "source": [
        "# Implement a random forest model\n",
        "from sklearn.ensemble import RandomForestClassifier\n",
        "\n",
        "# Initialize the Random Forest Classifier\n",
        "rf_model = RandomForestClassifier(n_estimators=100, random_state=42)\n",
        "\n",
        "# Train the model\n",
        "rf_model.fit(X_train, y_train)\n",
        "\n",
        "# Make predictions\n",
        "y_pred = rf_model.predict(X_test)\n",
        "\n",
        "# Evaluation metrics\n",
        "\n",
        "# Print classification report\n",
        "print(\"Classification Report:\")\n",
        "print(classification_report(y_test, y_pred,digits=4))\n"
      ]
    },
    {
      "cell_type": "markdown",
      "metadata": {
        "id": "tNtaE9bjJcD6"
      },
      "source": [
        "Random Forest is an ensemble learning technique (Bagging) that builds multiple decision trees on different subsets of the data and features, and aggregates their predictions through majority voting for classification tasks. By considering only a random subset of features for each split, Random Forest introduces diversity among the individual trees, helping to reduce variance and mitigate overfitting, which is often a limitation of single decision trees.\n",
        "\n",
        "Using random forest, f1-score for the 'Bad' clients improved slightly to 0.3158 from 0.2763. When we look at the precision and recall for \"Bad\" clients, precision increased, meaning that when the model predicts a client as \"Bad\", it is more likely to be correct. Recall decreased, indicating that the model is now identifying fewer actual \"Bad\" clients compared to the baseline.\n",
        "\n",
        "We now apply hyperparameter tuning to attempt to improve these results.\n"
      ]
    },
    {
      "cell_type": "code",
      "execution_count": 11,
      "metadata": {
        "colab": {
          "base_uri": "https://localhost:8080/"
        },
        "id": "n-KL4OwrJcD6",
        "outputId": "baf35194-86fc-4ff0-8a9c-813315b61f8c"
      },
      "outputs": [
        {
          "name": "stdout",
          "output_type": "stream",
          "text": [
            "Best Parameters: {'max_depth': 40}\n",
            "Classification Report:\n",
            "              precision    recall  f1-score   support\n",
            "\n",
            "           0     0.3396    0.3000    0.3186        60\n",
            "           1     0.9942    0.9952    0.9947      7232\n",
            "\n",
            "    accuracy                         0.9894      7292\n",
            "   macro avg     0.6669    0.6476    0.6566      7292\n",
            "weighted avg     0.9888    0.9894    0.9891      7292\n",
            "\n"
          ]
        }
      ],
      "source": [
        "# Hyperparameter tuning for random forest model\n",
        "from sklearn.model_selection import GridSearchCV\n",
        "from sklearn.metrics import f1_score\n",
        "from sklearn.metrics import make_scorer\n",
        "\n",
        "# Define the base model\n",
        "rf = RandomForestClassifier(n_estimators=100, random_state=42)\n",
        "\n",
        "# Custom scorer for GridSearchCV. Optimizes for f1-score of 'Bad' clients.\n",
        "f1_for_bad_clients = make_scorer(f1_score, pos_label=0)\n",
        "\n",
        "# Possible values for max_depth of trees\n",
        "param_grid = {\n",
        "    'max_depth': [10, 20, 30, 40, 50, 60, 70, 80, 90, 100, None],\n",
        "}\n",
        "\n",
        "# Search for best max_depth\n",
        "grid_search = GridSearchCV(\n",
        "    rf, param_grid,\n",
        "    scoring=f1_for_bad_clients,  # Optimizing for F1-score for 'Bad' clients\n",
        "    cv=5,  # 5-fold cross-validation\n",
        "    n_jobs=-1,  # Use all processors for faster computation\n",
        ")\n",
        "\n",
        "# Fit the model to the training data\n",
        "grid_search.fit(X_train, y_train)\n",
        "\n",
        "print(\"Best Parameters:\", grid_search.best_params_)\n",
        "\n",
        "# Train the random forest model using the best max_depth\n",
        "best_rf_model = grid_search.best_estimator_\n",
        "\n",
        "# Predict on test data\n",
        "y_pred = best_rf_model.predict(X_test)\n",
        "\n",
        "# Print classification report\n",
        "print(\"Classification Report:\")\n",
        "print(classification_report(y_test, y_pred, digits=4))"
      ]
    },
    {
      "cell_type": "markdown",
      "metadata": {
        "id": "VzYxm-31JcD7"
      },
      "source": [
        "During hyperparameter tuning, we set the objective function to be maximised as the f1-score for \"Bad\" clients. By performing a grid search on a list of varing max_depth for individual trees, we observe that decision trees of max_depth 40 performs the best in the random forest model.\n",
        "\n",
        "After hyperparameter tuning, f1-score improved from 0.3158 to 0.3186. Precision for the \"Bad\" clients increased but recall remains the same. \n",
        "\n",
        "By reducing the max_depth of trees, we are able to reduce the complexity of individual trees, which helps to mitigate overfitting. A simpler model is less prone to capturing noise from the training data and more likely to generalize better to unseen data, which is reflected in the slight improvement of the f1-score.\n",
        "\n",
        "To further improve f1-scores for \"Bad\" clients, we look for the optimal threshold to maximise f1-score for \"Bad\" clients. Currently, the default decision threshold is 0.5, meaning any instance with a predicted probability ≥ 0.5 for the positive class (\"Good\" clients) is classified as \"Good\", and anything below is classified as \"Bad\". However, this default threshold does not always yield optimal results, especially in our imbalanced dataset where \"Bad\" clients are underrepresented."
      ]
    },
    {
      "cell_type": "code",
      "execution_count": 12,
      "metadata": {
        "colab": {
          "base_uri": "https://localhost:8080/",
          "height": 507
        },
        "id": "T7Ws34OpJcD7",
        "outputId": "bea77fee-5a46-44bf-8140-ddaa00c7c57d"
      },
      "outputs": [
        {
          "name": "stdout",
          "output_type": "stream",
          "text": [
            "Best threshold for F1 (Bad Clients): 0.56\n",
            "Best F1 Score for Bad Clients: 0.3520\n"
          ]
        },
        {
          "data": {
            "image/png": "[encoded data removed]",
            "text/plain": [
              "<Figure size 640x480 with 1 Axes>"
            ]
          },
          "metadata": {},
          "output_type": "display_data"
        }
      ],
      "source": [
        "# Find optimal threshold to maximise f1-score for \"Bad\" clients\n",
        "\n",
        "# Predict probabilities for the test set\n",
        "y_proba = best_rf_model.predict_proba(X_test)[:, 1]  # Probability of class 1\n",
        "\n",
        "# Try different thresholds\n",
        "thresholds = np.arange(0, 1, 0.01)\n",
        "f1_scores = []\n",
        "\n",
        "for thresh in thresholds:\n",
        "    y_pred_thresh = (y_proba > thresh).astype(int)\n",
        "    f1 = f1_score(y_test, y_pred_thresh, pos_label=0)  # F1 for 'Bad'\n",
        "    f1_scores.append(f1)\n",
        "\n",
        "# Get best threshold\n",
        "best_thresh = thresholds[np.argmax(f1_scores)]\n",
        "best_f1 = np.max(f1_scores)\n",
        "\n",
        "print(f\"Best threshold for F1 (Bad Clients): {best_thresh:.2f}\")\n",
        "print(f\"Best F1 Score for Bad Clients: {best_f1:.4f}\")\n",
        "\n",
        "# Plot\n",
        "plt.plot(thresholds, f1_scores, color=\"skyblue\")\n",
        "plt.axvline(best_thresh, color=\"red\", linestyle=\"--\", label=f\"Best = {best_thresh:.2f}\")\n",
        "plt.title(\"F1 Score for 'Bad' Clients vs Threshold\")\n",
        "plt.xlabel(\"Threshold\")\n",
        "plt.ylabel(\"F1 Score (Class 0)\")\n",
        "plt.grid(True)\n",
        "plt.legend()\n",
        "plt.show()\n"
      ]
    },
    {
      "cell_type": "code",
      "execution_count": 13,
      "metadata": {
        "colab": {
          "base_uri": "https://localhost:8080/"
        },
        "id": "GtLV9IjuJcD7",
        "outputId": "e6e429ca-c135-4895-8466-ec961e85ce12"
      },
      "outputs": [
        {
          "name": "stdout",
          "output_type": "stream",
          "text": [
            "Classification Report with Best Threshold:\n",
            "              precision    recall  f1-score   support\n",
            "\n",
            "           0     0.3385    0.3667    0.3520        60\n",
            "           1     0.9947    0.9941    0.9944      7232\n",
            "\n",
            "    accuracy                         0.9889      7292\n",
            "   macro avg     0.6666    0.6804    0.6732      7292\n",
            "weighted avg     0.9893    0.9889    0.9891      7292\n",
            "\n"
          ]
        }
      ],
      "source": [
        "# Use the optimal threshold for prediction\n",
        "\n",
        "y_pred_final = (y_proba > best_thresh).astype(int)\n",
        "\n",
        "print(\"Classification Report with Best Threshold:\")\n",
        "print(classification_report(y_test, y_pred_final, digits=4))\n"
      ]
    },
    {
      "cell_type": "markdown",
      "metadata": {
        "id": "J2J8-ghfJcD8"
      },
      "source": [
        "We vary the threshold for classifying \"Good\" and \"Bad\" clients to find the optimal threshold that maximises f1-score for \"Bad\" clients. Using this optimal threshold for classification (0.56), we see that the f1-score for \"Bad\" clients increased from 0.3186 to 0.3520, showing better detection of the minority class. Now both precision and recall for the \"Bad\" clients are both higher than the baseline decision tree model."
      ]
    },
    {
      "cell_type": "code",
      "execution_count": 34,
      "metadata": {},
      "outputs": [
        {
          "data": {
            "image/png": "[encoded data removed]",
            "text/plain": [
              "<Figure size 1000x600 with 1 Axes>"
            ]
          },
          "metadata": {},
          "output_type": "display_data"
        }
      ],
      "source": [
        "# Get feature importances\n",
        "importances = best_rf_model.feature_importances_\n",
        "\n",
        "# Create a DataFrame with feature names and importances\n",
        "feature_importance_df = pd.DataFrame({\n",
        "    'Feature': X_train.columns,\n",
        "    'Importance': importances\n",
        "})\n",
        "\n",
        "# Sort by importance descending\n",
        "feature_importance_df = feature_importance_df.sort_values(by='Importance', ascending=False)\n",
        "\n",
        "# Plot the top 10 features\n",
        "plt.figure(figsize=(10, 6))\n",
        "plt.barh(feature_importance_df['Feature'][:10][::-1], feature_importance_df['Importance'][:10][::-1], color='skyblue')\n",
        "plt.xlabel('Feature Importance')\n",
        "plt.title('Top 10 Important Features (Random Forest)')\n",
        "plt.tight_layout()\n",
        "plt.show()\n"
      ]
    },
    {
      "cell_type": "markdown",
      "metadata": {},
      "source": [
        "This plot shows the top 10 most important features identified by the Random Forest model. Feature importance is determined based on how much each feature contributes to reducing impurity across all trees in the ensemble. From the plot, we see that \"AGE\" and \"AMT_INCOME_TOTAL\" are the most important features in predicting whether a client is classified as \"Good\" or \"Bad\", indicating that a client’s age and total income have the highest influence on the model’s classification of credit risk."
      ]
    },
    {
      "cell_type": "markdown",
      "metadata": {},
      "source": [
        "## Boosting Models"
      ]
    },
    {
      "cell_type": "markdown",
      "metadata": {},
      "source": [
        "Boosting is an ensemble technique that trains models sequentially, where each new tree focuses on correcting the mistakes made by the previous ones. By giving more weight to the misclassified instances at each iteration, boosting is effective at reducing bias and improving overall predictive performance. In this section, we experiment with two widely-used gradient boosting algorithms: XGBoost and LightGBM, both known for their robustness and efficiency, especially in structured data tasks like credit risk classification."
      ]
    },
    {
      "cell_type": "markdown",
      "metadata": {},
      "source": [
        "## XGBoost"
      ]
    },
    {
      "cell_type": "code",
      "execution_count": 14,
      "metadata": {
        "colab": {
          "base_uri": "https://localhost:8080/"
        },
        "id": "LddIYyUCJcD8",
        "outputId": "dc4fc833-b740-4d98-cf6e-a8b01e94fcdd"
      },
      "outputs": [
        {
          "name": "stdout",
          "output_type": "stream",
          "text": [
            "Classification Report:\n",
            "              precision    recall  f1-score   support\n",
            "\n",
            "           0     0.1163    0.3333    0.1724        60\n",
            "           1     0.9944    0.9790    0.9866      7232\n",
            "\n",
            "    accuracy                         0.9737      7292\n",
            "   macro avg     0.5553    0.6562    0.5795      7292\n",
            "weighted avg     0.9872    0.9737    0.9799      7292\n",
            "\n"
          ]
        }
      ],
      "source": [
        "# Implement XGboost model\n",
        "from xgboost import XGBClassifier\n",
        "from sklearn.metrics import classification_report\n",
        "\n",
        "# Create and train the XGBoost model\n",
        "clf = XGBClassifier(random_state=42)\n",
        "clf.fit(X_train, y_train)\n",
        "\n",
        "# Predictions\n",
        "y_pred = clf.predict(X_test)\n",
        "\n",
        "# Evaluation metrics\n",
        "# Print classification report\n",
        "print(\"Classification Report:\")\n",
        "print(classification_report(y_test, y_pred, digits=4))"
      ]
    },
    {
      "cell_type": "markdown",
      "metadata": {
        "id": "SkQNitK_JcD8"
      },
      "source": [
        "XGBoost without any hyperparameter tuning performs badly on the test data, with a f1-score of 0.1724 for 'Bad' clients.\n",
        "\n",
        "We perform hyperparameter tuning to improve model performance next."
      ]
    },
    {
      "cell_type": "code",
      "execution_count": 15,
      "metadata": {
        "colab": {
          "base_uri": "https://localhost:8080/"
        },
        "id": "5ndzSjQ2JcD9",
        "outputId": "a41adcbd-769d-40cf-a225-8a5942dd0b9d"
      },
      "outputs": [
        {
          "name": "stdout",
          "output_type": "stream",
          "text": [
            "Best Parameters: {'learning_rate': 0.2, 'max_depth': 15}\n",
            "Classification Report:\n",
            "              precision    recall  f1-score   support\n",
            "\n",
            "           0     0.3284    0.3667    0.3465        60\n",
            "           1     0.9947    0.9938    0.9943      7232\n",
            "\n",
            "    accuracy                         0.9886      7292\n",
            "   macro avg     0.6615    0.6802    0.6704      7292\n",
            "weighted avg     0.9893    0.9886    0.9889      7292\n",
            "\n"
          ]
        }
      ],
      "source": [
        "# Hyperparameter tuning for XGboost model\n",
        "\n",
        "# Define the base XGBoost model\n",
        "xgb_model = XGBClassifier(random_state=42)\n",
        "\n",
        "# Custom scorer for GridSearchCV. Optimizes for f1-score of 'Bad' clients.\n",
        "f1_for_bad_clients = make_scorer(f1_score, pos_label=0)\n",
        "\n",
        "# Set up hyperparameter grid for tuning\n",
        "param_grid = {\n",
        "    'max_depth': [3, 5, 6, 7, 8, 9, 10, 12, 15],\n",
        "    'learning_rate': [0.01, 0.05, 0.1, 0.2, 0.3],\n",
        "}\n",
        "\n",
        "# Set up GridSearchCV with F1 score as the scoring metric\n",
        "grid_search = GridSearchCV(\n",
        "    xgb_model, param_grid,\n",
        "    scoring=f1_for_bad_clients,  # Optimize for F1 score for 'Bad' clients\n",
        "    cv=5,  # 5-fold cross-validation\n",
        "    n_jobs=-1\n",
        ")\n",
        "\n",
        "# Fit the grid search model to training data\n",
        "grid_search.fit(X_train, y_train)\n",
        "\n",
        "# Output the best hyperparameters\n",
        "print(\"Best Parameters:\", grid_search.best_params_)\n",
        "\n",
        "# Get the best model and make predictions\n",
        "best_xgb = grid_search.best_estimator_\n",
        "y_pred = best_xgb.predict(X_test)\n",
        "\n",
        "# Print classification report to evaluate performance\n",
        "print(\"Classification Report:\")\n",
        "print(classification_report(y_test, y_pred, digits=4))\n"
      ]
    },
    {
      "cell_type": "markdown",
      "metadata": {
        "id": "8KTy3slVJcD9"
      },
      "source": [
        "We perform a grid search on a range of values for the max_depth of each trained tree as well as the learning rate. The objective function that is maximised is the f1-score for \"Bad\" clients. We then train the XGBoost model using the optimal parameters.\n",
        "\n",
        "After hyperparameter tuning, f1-score improved from 0.1724 to 0.3465, which is a good improvement. Comparing to our best model currently (Random forest with tuned hyperparameter and threshold), XGBoost performed slightly worse with a lower f1-score for \"Bad\" clients and a lower precision. Recall remains the same.\n",
        "\n",
        "Next we explore a LightGBM model."
      ]
    },
    {
      "cell_type": "markdown",
      "metadata": {},
      "source": [
        "## LightGBM"
      ]
    },
    {
      "cell_type": "code",
      "execution_count": 24,
      "metadata": {
        "colab": {
          "base_uri": "https://localhost:8080/"
        },
        "id": "CRt-49HcMYUl",
        "outputId": "0ae036a2-54a0-41a4-8a7e-28e68179af2b"
      },
      "outputs": [
        {
          "name": "stdout",
          "output_type": "stream",
          "text": [
            "Classification Report:\n",
            "              precision    recall  f1-score   support\n",
            "\n",
            "           0     0.0878    0.3000    0.1358        60\n",
            "           1     0.9941    0.9741    0.9840      7232\n",
            "\n",
            "    accuracy                         0.9686      7292\n",
            "   macro avg     0.5409    0.6371    0.5599      7292\n",
            "weighted avg     0.9866    0.9686    0.9770      7292\n",
            "\n"
          ]
        }
      ],
      "source": [
        "# Original lightgbm without hyperparameter tuning\n",
        "import lightgbm as lgb\n",
        "\n",
        "# Define LightGBM classifier:\n",
        "clf = lgb.LGBMClassifier(random_state = 42, verbose = -1)\n",
        "\n",
        "clf.fit(X_train, y_train)\n",
        "\n",
        "# Predictions\n",
        "y_pred = clf.predict(X_test)\n",
        "\n",
        "# Evaluation metrics\n",
        "# Print classification report\n",
        "print(\"Classification Report:\")\n",
        "print(classification_report(y_test, y_pred, digits=4))"
      ]
    },
    {
      "cell_type": "markdown",
      "metadata": {},
      "source": [
        "Similarly to XGBoost, LightGBM performs poorly on the test data, with a 0.1358 f1-score for \"Bad\" clients.\n",
        "\n",
        "We proceed to perform hyperparameter tuning."
      ]
    },
    {
      "cell_type": "code",
      "execution_count": 25,
      "metadata": {
        "colab": {
          "base_uri": "https://localhost:8080/"
        },
        "id": "L1Ph8qOvJcD-",
        "outputId": "d9356f90-50ed-4b50-df82-72663eed833d"
      },
      "outputs": [
        {
          "name": "stdout",
          "output_type": "stream",
          "text": [
            "Fitting 5 folds for each of 32 candidates, totalling 160 fits\n",
            "Best Parameters: {'colsample_bytree': 0.8, 'learning_rate': 0.1, 'n_estimators': 100, 'num_leaves': 100, 'reg_alpha': 0, 'reg_lambda': 0.1, 'subsample': 0.8}\n",
            "Classification Report:\n",
            "              precision    recall  f1-score   support\n",
            "\n",
            "           0     0.3556    0.2667    0.3048        60\n",
            "           1     0.9939    0.9960    0.9950      7232\n",
            "\n",
            "    accuracy                         0.9900      7292\n",
            "   macro avg     0.6747    0.6313    0.6499      7292\n",
            "weighted avg     0.9887    0.9900    0.9893      7292\n",
            "\n"
          ]
        }
      ],
      "source": [
        "# Lightgbm with hyperparameter tuning\n",
        "\n",
        "# Define LightGBM classifier:\n",
        "lgb_model = lgb.LGBMClassifier(random_state = 42, verbose = -1)\n",
        "\n",
        "'''\n",
        "# hyperparameter grid for lightGBM\n",
        "lgb_param_grid = {\n",
        "    'num_leaves': [31, 50, 100],\n",
        "    'learning_rate': [0.01, 0.05, 0.1],\n",
        "    'n_estimators': [100, 200],\n",
        "    'subsample': [0.8, 1.0],\n",
        "    'colsample_bytree': [0.8, 1.0],\n",
        "    'reg_alpha': [0, 0.1, 0.5],\n",
        "    'reg_lambda': [0, 0.1, 0.5]\n",
        "}\n",
        "'''\n",
        "\n",
        "lgb_param_grid = {\n",
        "    'num_leaves': [31, 100],                     # Drop 50 (middle value)\n",
        "    'learning_rate': [0.01, 0.1],                # Keep low + high\n",
        "    'n_estimators': [100],                       # Fix to 100\n",
        "    'subsample': [0.8],                          # Fix to most common good value\n",
        "    'colsample_bytree': [0.8, 1.0],              # Keep both\n",
        "    'reg_alpha': [0, 0.1],                       # Light regularization\n",
        "    'reg_lambda': [0, 0.1]                       # Same here\n",
        "}\n",
        "\n",
        "# GridSearchCV\n",
        "lgb_grid_search = GridSearchCV(\n",
        "    estimator=lgb_model,\n",
        "    param_grid=lgb_param_grid,\n",
        "    cv=5, # 5 fold cross validation\n",
        "    scoring=f1_for_bad_clients,# same as above\n",
        "    n_jobs = -1,\n",
        "    verbose=1\n",
        ")\n",
        "\n",
        "# fit gridsearch\n",
        "lgb_grid_search.fit(X_train, y_train)\n",
        "\n",
        "# best hyperparams\n",
        "print(\"Best Parameters:\", lgb_grid_search.best_params_)\n",
        "\n",
        "# Get the best model and make predictions\n",
        "best_lgb = lgb_grid_search.best_estimator_\n",
        "y_pred = best_lgb.predict(X_test)\n",
        "\n",
        "# Print classification report to evaluate performance\n",
        "print(\"Classification Report:\")\n",
        "print(classification_report(y_test, y_pred, digits=4))"
      ]
    },
    {
      "cell_type": "markdown",
      "metadata": {
        "id": "dluDqFLJVP37"
      },
      "source": [
        "Using the optimal hyperparameters to train the LightGBM model, the f1-score improved from 0.1358 to 0.3048. However, it is still not as good as XGBoost or Random Forest.\n",
        "\n",
        "LightGBM is known for its faster training and lower memory usage. In our case, the model's leaf-wise tree growth may have contributed to slight overfitting, resulting in lower generalization to the minority class compared to the other ensemble methods."
      ]
    },
    {
      "cell_type": "markdown",
      "metadata": {
        "id": "YJRTtvJ3JcD-"
      },
      "source": [
        "## Stacking\n",
        "\n",
        "Stacking is an ensemble learning technique that combines the predictions of multiple base models (called level-0 models) and uses a meta-model (called level-1 model) to make the final prediction. Each base model learns from the original training dataset independently, and their outputs are then used as inputs for the meta-model. In our case, we use logistic regression as the meta-model, which takes predicted probabilities from the base models as input and learns to assign optimal weights to each, effectively learning how to best combine their outputs to make the final classification. This helps improve overall model performance by leveraging the strengths of each base learner while minimizing their individual weaknesses. For example, if XGBoost is better at detecting “Bad” clients and LightGBM is stronger for “Good” clients, Logistic Regression can learn to rely more on XGBoost when a case looks like a “Bad” client. "
      ]
    },
    {
      "cell_type": "code",
      "execution_count": null,
      "metadata": {
        "id": "UaeVWUvHVFo_"
      },
      "outputs": [],
      "source": [
        "# Get the tuned XGBoost, LightGBM and Random forest models\n",
        "best_xgb = grid_search.best_estimator_\n",
        "best_lgb = lgb_grid_search.best_estimator_\n",
        "best_rf = best_rf_model"
      ]
    },
    {
      "cell_type": "markdown",
      "metadata": {},
      "source": [
        "## Stacking Classifier"
      ]
    },
    {
      "cell_type": "code",
      "execution_count": null,
      "metadata": {
        "colab": {
          "base_uri": "https://localhost:8080/"
        },
        "id": "VY-iVYzRJcD-",
        "outputId": "a815134d-150c-4ee5-ba7b-03cf615ddf3d"
      },
      "outputs": [
        {
          "name": "stdout",
          "output_type": "stream",
          "text": [
            "Classification Report:\n",
            "              precision    recall  f1-score   support\n",
            "\n",
            "           0     0.3673    0.3000    0.3303        60\n",
            "           1     0.9942    0.9957    0.9950      7232\n",
            "\n",
            "    accuracy                         0.9900      7292\n",
            "   macro avg     0.6808    0.6479    0.6626      7292\n",
            "weighted avg     0.9890    0.9900    0.9895      7292\n",
            "\n"
          ]
        }
      ],
      "source": [
        "from sklearn.linear_model import LogisticRegression\n",
        "from sklearn.ensemble import StackingClassifier\n",
        "\n",
        "# Define base estimators\n",
        "estimators = [\n",
        "    ('xgb', best_xgb),\n",
        "    ('lgb', best_lgb)\n",
        "]\n",
        "\n",
        "# Create and train a stacking classifier with LogisticRegression as the final estimator\n",
        "stacking_clf = StackingClassifier(\n",
        "    estimators=estimators,\n",
        "    final_estimator=LogisticRegression(max_iter=1000),\n",
        "    cv=5\n",
        ")\n",
        "\n",
        "stacking_clf.fit(X_train, y_train)\n",
        "y_pred_stack = stacking_clf.predict(X_test)\n",
        "\n",
        "# Print classification report to evaluate performance\n",
        "print(\"Classification Report:\")\n",
        "print(classification_report(y_test, y_pred_stack, digits=4))"
      ]
    },
    {
      "cell_type": "markdown",
      "metadata": {},
      "source": [
        "We implement a Stacking Classifier with both boosting models (XGBoost and LightGBM) as the base models.\n",
        "\n",
        "This model achieves a f1-score of 0.3303 for \"Bad\" clients, offering a higher precision compared to XGBoost alone but with a lower recall.\n",
        "\n",
        "Next we try a different combination of baseline models."
      ]
    },
    {
      "cell_type": "code",
      "execution_count": 32,
      "metadata": {
        "colab": {
          "base_uri": "https://localhost:8080/"
        },
        "id": "QqyvtzBlWmJf",
        "outputId": "77a7f746-5e27-41c5-cb0e-de9a78018470"
      },
      "outputs": [
        {
          "name": "stdout",
          "output_type": "stream",
          "text": [
            "Classification Report:\n",
            "              precision    recall  f1-score   support\n",
            "\n",
            "           0     0.4091    0.3000    0.3462        60\n",
            "           1     0.9942    0.9964    0.9953      7232\n",
            "\n",
            "    accuracy                         0.9907      7292\n",
            "   macro avg     0.7016    0.6482    0.6707      7292\n",
            "weighted avg     0.9894    0.9907    0.9900      7292\n",
            "\n"
          ]
        }
      ],
      "source": [
        "# Define base estimators\n",
        "estimators2 = [\n",
        "    ('xgb', best_xgb),\n",
        "    ('lgb', best_lgb),\n",
        "    ('rf', best_rf)\n",
        "]\n",
        "\n",
        "# Create and train a stacking classifier with LogisticRegression as the final estimator\n",
        "stacking_clf2 = StackingClassifier(\n",
        "    estimators=estimators2,\n",
        "    final_estimator=LogisticRegression(max_iter=1000),\n",
        "    cv=5\n",
        ")\n",
        "\n",
        "stacking_clf2.fit(X_train, y_train)\n",
        "y_pred_stack = stacking_clf2.predict(X_test)\n",
        "\n",
        "# Print classification report to evaluate performance\n",
        "print(\"Classification Report:\")\n",
        "print(classification_report(y_test, y_pred_stack, digits=4))"
      ]
    },
    {
      "cell_type": "markdown",
      "metadata": {
        "id": "llErs53bWumk"
      },
      "source": [
        "We use XGBoost, LightGBM and Random forest as the baseline models and obtained an f1-score of 0.3462, which is an improvement from our previous model. However, f1-score and recall is still lower for \"Bad\" clients compared to the random forest model we implemented previously. We note that precision for this model is higher than precision in our random forest model."
      ]
    },
    {
      "cell_type": "markdown",
      "metadata": {},
      "source": [
        "## Conclusion"
      ]
    },
    {
      "cell_type": "markdown",
      "metadata": {},
      "source": [
        "Summarizing our findings above, we find that for \"Bad\" clients:\n",
        "\n",
        "Random forest with hyperparameter and threshold tuning obtained the highest f1-score of 0.3520 and highest recall of 0.3667.\n",
        "\n",
        "Stacking Classifier using XGBoost, LightGBM and Random Forest obtained the highest precision of 0.4091.\n",
        "\n",
        "For our problem objective, we are more focused on maximising recall so that we can identify as many \"Bad\" clients as possible. In this case, we pick Random forest to be our best model."
      ]
    },
    {
      "cell_type": "markdown",
      "metadata": {},
      "source": [
        "## Future Recommendations"
      ]
    },
    {
      "cell_type": "markdown",
      "metadata": {},
      "source": [
        "1) Incorporating additional features or performing advanced feature engineering may enhance model performance.\n",
        "\n",
        "2) Fine-tuning the models further with additional hyperparameters, such as learning rate decay or boosting iterations, could further improve f1-score, precision, and recall."
      ]
    }
  ],
  "metadata": {
    "accelerator": "GPU",
    "colab": {
      "gpuType": "T4",
      "provenance": []
    },
    "kernelspec": {
      "display_name": ".venv",
      "language": "python",
      "name": "python3"
    },
    "language_info": {
      "codemirror_mode": {
        "name": "ipython",
        "version": 3
      },
      "file_extension": ".py",
      "mimetype": "text/x-python",
      "name": "python",
      "nbconvert_exporter": "python",
      "pygments_lexer": "ipython3",
      "version": "3.12.6"
    }
  },
  "nbformat": 4,
  "nbformat_minor": 0
}
